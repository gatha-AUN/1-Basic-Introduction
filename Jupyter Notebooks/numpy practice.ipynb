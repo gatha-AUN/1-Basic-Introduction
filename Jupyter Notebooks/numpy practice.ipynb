{
 "cells": [
  {
   "cell_type": "code",
   "execution_count": 40,
   "metadata": {},
   "outputs": [
    {
     "name": "stdout",
     "output_type": "stream",
     "text": [
      "(3, 4)\n",
      "2\n"
     ]
    }
   ],
   "source": [
    "import numpy as np\n",
    "\n",
    "ar = np.array([[4,5,8,4],\n",
    "               [6,3,2,1],\n",
    "               [8,6,4,3]])\n",
    "print (ar.shape)\n",
    "print (ar.ndim)"
   ]
  },
  {
   "cell_type": "code",
   "execution_count": 49,
   "metadata": {},
   "outputs": [
    {
     "name": "stdout",
     "output_type": "stream",
     "text": [
      "[1 3 5 7 9]\n",
      "7\n",
      "9\n",
      "[3 5]\n",
      "[ 1 13 13  7  9]\n"
     ]
    }
   ],
   "source": [
    "arr = np.arange(start=1, stop=10, step=2)\n",
    "print (arr)\n",
    "print (arr[3])\n",
    "print (arr[-1])\n",
    "print (arr[1:3])\n",
    "arr[1:3] = 13\n",
    "print (arr)"
   ]
  },
  {
   "cell_type": "code",
   "execution_count": 52,
   "metadata": {},
   "outputs": [
    {
     "name": "stdout",
     "output_type": "stream",
     "text": [
      "[4 5]\n",
      "[7]\n",
      "[[1]\n",
      " [4]\n",
      " [7]]\n"
     ]
    }
   ],
   "source": [
    "arr2d = np.array([[1, 2, 3],\n",
    "                  [4, 5, 6],\n",
    "                  [7, 8, 9] ])\n",
    "print (arr2d[1, :2])\n",
    "\n",
    "print (arr2d[2, :1])\n",
    "\n",
    "print (arr2d[:, :1])"
   ]
  },
  {
   "cell_type": "code",
   "execution_count": 42,
   "metadata": {},
   "outputs": [
    {
     "name": "stdout",
     "output_type": "stream",
     "text": [
      "[[3 1]\n",
      " [2 4]]\n",
      "(2, 2, 2)\n",
      "3\n"
     ]
    }
   ],
   "source": [
    "a = np.array([[[3, 1],[7, 3]], [[2, 4],[3, 3]]])\n",
    "print (a[:,0])\n",
    "print (a.shape)\n",
    "print (a.ndim)\n",
    "\n",
    "\n",
    "numpy\n",
    "\n",
    "list()\n",
    "[]\n",
    "pandas\n",
    "pd.asarray()"
   ]
  },
  {
   "cell_type": "code",
   "execution_count": 55,
   "metadata": {},
   "outputs": [
    {
     "name": "stdout",
     "output_type": "stream",
     "text": [
      "(6,)\n",
      "1\n",
      "[ 2  5 21 43 67 76]\n",
      "3\n"
     ]
    }
   ],
   "source": [
    "arr = np.array([5,67,43,76,2,21])\n",
    "print (arr.shape)\n",
    "print (arr.ndim)\n",
    "arr.sort()\n",
    "print (arr)\n",
    "\n",
    "print (a.ndim)"
   ]
  },
  {
   "cell_type": "code",
   "execution_count": null,
   "metadata": {},
   "outputs": [],
   "source": []
  }
 ],
 "metadata": {
  "kernelspec": {
   "display_name": "Python 3",
   "language": "python",
   "name": "python3"
  },
  "language_info": {
   "codemirror_mode": {
    "name": "ipython",
    "version": 3
   },
   "file_extension": ".py",
   "mimetype": "text/x-python",
   "name": "python",
   "nbconvert_exporter": "python",
   "pygments_lexer": "ipython3",
   "version": "3.8.3"
  }
 },
 "nbformat": 4,
 "nbformat_minor": 4
}
